{
 "cells": [
  {
   "cell_type": "code",
   "execution_count": 1,
   "metadata": {},
   "outputs": [
    {
     "data": {
      "text/plain": [
       "92.23100000000007"
      ]
     },
     "execution_count": 1,
     "metadata": {},
     "output_type": "execute_result"
    }
   ],
   "source": [
    "from sklearn.preprocessing import MinMaxScaler\n",
    "import pickle\n",
    "import pandas as pd\n",
    "import numpy as np\n",
    "\n",
    "with open('trained_model-001.pkl', 'rb') as file:\n",
    "    model=pickle.load(file)\n",
    "with open('scaler.pkl', 'rb') as file:\n",
    "    scaler=pickle.load(file)\n",
    "with open('orden_entrada_modelo.txt', 'r') as  doc:\n",
    "    lines=doc.readlines()\n",
    "orden_variables=[]\n",
    "for line in lines:\n",
    "    orden_variables.append(line.replace(\"\\n\",''))\n",
    "\n",
    "df_completa_vacia=pd.DataFrame(columns=orden_variables)\n",
    "\n",
    "answer={\"store_type\":\"Gourmet Supermarket\",\"store_state\":\"Zacatecas\",\"grocery_sqft\":\"15012\",\"frozen_sqft\":\"4193\",\"coffee_bar\":\"1\",\"video_store\":\"0\",\"prepared_food\":\"1\",\"florist\":\"0\",\"media_type\":\"Daily Paper\",\"marital_status\":\"M\",\"gender\":\"F\",\"total_children\":\"5\",\"education\":\"Partial College\",\"member_card\":\"Bronze\",\"occupation\":\"Professional\",\"houseowner\":\"N\",\"avg_cars_at home(approx)\":\"4\",\"avg. yearly_income\":\"$90K - $110K\",\"num_children_at_home\":\"4\",\"SRP\":\"2.8\",\"net_weight\":\"17.8\",\"recyclable_package\":\"1\",\"low_fat\":\"0\",\"units_per_case\":\"32\",\"food_family\":\"Food\",\"unit_sales(in millions)\":\"1\",\"promotion_name\":\"Price Smashers\",\"sales_country\":\"USA\"}\n",
    "\n",
    "df_response=pd.DataFrame(answer,index=[0])\n",
    "df_response[['unit_sales(in millions)','total_children','avg_cars_at home(approx)','num_children_at_home','SRP','net_weight','recyclable_package','low_fat','units_per_case','grocery_sqft','frozen_sqft','coffee_bar','video_store','prepared_food','florist']]=df_response[['unit_sales(in millions)','total_children','avg_cars_at home(approx)','num_children_at_home','SRP','net_weight','recyclable_package','low_fat','units_per_case','grocery_sqft','frozen_sqft','coffee_bar','video_store','prepared_food','florist']].astype('float64')\n",
    "df_response[['unit_sales(in millions)','total_children','avg_cars_at home(approx)','num_children_at_home','SRP','net_weight','recyclable_package','low_fat','units_per_case','grocery_sqft','frozen_sqft','coffee_bar','video_store','prepared_food','florist']]=scaler.transform(df_response[['unit_sales(in millions)','total_children','avg_cars_at home(approx)','num_children_at_home','SRP','net_weight','recyclable_package','low_fat','units_per_case','grocery_sqft','frozen_sqft','coffee_bar','video_store','prepared_food','florist']])\n",
    "df_response_dummies=pd.get_dummies(df_response)\n",
    "for column in df_response_dummies.columns:\n",
    "    if column not in df_completa_vacia.columns: \n",
    "        print(column)\n",
    "    df_completa_vacia.loc[0,column]=df_response_dummies.loc[0,column]\n",
    "df_completa=df_completa_vacia.fillna(0)\n",
    "\n",
    "model.predict(df_completa)[0]"
   ]
  }
 ],
 "metadata": {
  "kernelspec": {
   "display_name": "base",
   "language": "python",
   "name": "python3"
  },
  "language_info": {
   "codemirror_mode": {
    "name": "ipython",
    "version": 3
   },
   "file_extension": ".py",
   "mimetype": "text/x-python",
   "name": "python",
   "nbconvert_exporter": "python",
   "pygments_lexer": "ipython3",
   "version": "3.9.13"
  },
  "orig_nbformat": 4,
  "vscode": {
   "interpreter": {
    "hash": "ad2bdc8ecc057115af97d19610ffacc2b4e99fae6737bb82f5d7fb13d2f2c186"
   }
  }
 },
 "nbformat": 4,
 "nbformat_minor": 2
}
